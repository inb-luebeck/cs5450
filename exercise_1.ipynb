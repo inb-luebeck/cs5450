{
 "cells": [
  {
   "cell_type": "markdown",
   "metadata": {},
   "source": [
    "# Exercise 1: PCA, ICA and Sparse Coding"
   ]
  },
  {
   "cell_type": "markdown",
   "metadata": {},
   "source": [
    "**Note**: Please insert the names of all participating students:\n",
    "\n",
    "1. \n",
    "2. \n",
    "3. \n",
    "4. \n",
    "5. "
   ]
  },
  {
   "cell_type": "markdown",
   "metadata": {},
   "source": [
    "## Preamble\n",
    "The following code downloads and imports all necessary files and modules into the virtual machine of Colab. Please make sure to execute it before solving this exercise."
   ]
  },
  {
   "cell_type": "code",
   "execution_count": null,
   "metadata": {},
   "outputs": [],
   "source": [
    "import sys, os\n",
    "if 'google.colab' in sys.modules:\n",
    "  if os.getcwd() == '/content':\n",
    "    !git clone 'https://github.com/inb-uni-luebeck/cs5450.git'\n",
    "    os.chdir('cs5450')"
   ]
  },
  {
   "cell_type": "markdown",
   "metadata": {},
   "source": [
    "## Exercise 1.1: Applying unsupervised methods\n",
    "\n",
    "In this exercise, we will apply three unsupervised methods, namely *Prinicipal Component Analysis (PCA)*, *Independent Component Analysis (ICA)*, and *Sparse Coding (SC)* to image patches taken from handwritting digits and from faces.\n",
    "\n",
    "Since implementing [ICA](https://scikit-learn.org/stable/modules/generated/sklearn.decomposition.FastICA.html) and [SC](https://scikit-learn.org/stable/modules/generated/sklearn.decomposition.SparseCoder.html) is rather complex, we will use already existing python packages.\n",
    "\n",
    "We will build on the python starter code given below. You only need to write code at the places indicated by `TODO`.\n",
    "The two given datasets are `mnist.npz` for handwritten digits and `olivetti.npz` for faces. Each dataset contains a multi dimensional array `data` with the first index corresponding to the observations and the second index corresponding to the features (grayscale pixels). Both datasets contain square-shaped images.\n",
    "\n",
    "Implement the missing parts below. When done correctly, your code should do the following:\n",
    "1. Load the dataset with either handwritten images or faces.\n",
    "2. Enforce mean-free observations by subtracting the mean from the data.\n",
    "3. Randomly draw square-shaped image patches from the data.\n",
    "4. Apply one of the three unsupervised methods (PCA, ICA, or SC).\n",
    "5. Show the resulting set of new basis vectors (i.e. the components for PCA and ICA).\n",
    "6. Reconstruct the original image patches with different subsets of basis vectors.\n",
    "\n",
    "Note that for sparse coding, the basis vectors are not ordered according to some metric (*unlike which method?*). To quickly reconstruct an image with only $i$ non-zero values, you should use the coefficients and basis vectors corresponding to the $i$ highest absolute coefficients (see [numpy.argsort](https://numpy.org/doc/stable/reference/generated/numpy.argsort.html)). \n",
    "\n",
    "In case you are struggeling with the task, here are some helpful tips and hints:\n",
    "1. Useful functions: [`numpy.load`](https://docs.scipy.org/doc/numpy/reference/generated/numpy.load.html), [`ndarray.astype`](https://docs.scipy.org/doc/numpy/reference/generated/numpy.ndarray.astype.html), [`numpy.mean`](https://docs.scipy.org/doc/numpy/reference/generated/numpy.mean.html), [`numpy.linalg.pinv`](https://docs.scipy.org/doc/numpy/reference/generated/numpy.linalg.pinv.html), [`numpy.matmul`](https://docs.scipy.org/doc/numpy/reference/generated/numpy.matmul.html), [`numpy.stack`](https://docs.scipy.org/doc/numpy/reference/generated/numpy.stack.html), `random_patches`, `show_in_grid`, [`PCA`](https://scikit-learn.org/stable/modules/generated/sklearn.decomposition.PCA.html), [`FastICA`](https://scikit-learn.org/stable/modules/generated/sklearn.decomposition.FastICA.html#sklearn.decomposition.FastICA), [`DictionaryLearning`](https://scikit-learn.org/stable/modules/generated/sklearn.decomposition.DictionaryLearning.html#sklearn.decomposition.DictionaryLearning),[numpy.argsort](https://numpy.org/doc/stable/reference/generated/numpy.argsort.html)\n",
    "2. You should start with both PCA and ICA and only then use SC.\n",
    "3. Applying SC may take a couple of minutes. Good initial value for it are: \n",
    " - `dataset='mnist'`\n",
    " - `n_patches=1000`\n",
    " - `patch_size=25`\n",
    " - `n_basis=100`\n",
    " - `n_iterations=50`\n",
    " - and instantiate the class with `n_jobs=-1` to utilize all CPU cores, as well as `verbose=True` to see progress feedback"
   ]
  },
  {
   "cell_type": "markdown",
   "metadata": {},
   "source": [
    "Import and helper functions. Do not change!"
   ]
  },
  {
   "cell_type": "code",
   "execution_count": 1,
   "metadata": {
    "scrolled": false
   },
   "outputs": [],
   "source": [
    "import numpy as np\n",
    "import math\n",
    "import random\n",
    "from sklearn.decomposition import PCA, FastICA, DictionaryLearning\n",
    "from matplotlib import pyplot as plt\n",
    "%matplotlib inline\n",
    "\n",
    "def random_patches(data, img_height, img_width, n_patches, patch_size):\n",
    "    # RANDOMPATCHES draw random square-shaped patches from the data.\n",
    "    #\n",
    "    # INPUT:\n",
    "    #   data : ndarray containing the data (i.e. mnist or olivetti)\n",
    "    #   img_height : height of the images\n",
    "    #   img_width : width of the images\n",
    "    #   n_patches : number of patches to be drawn\n",
    "    #   patch_size : size (both width and height) of the square-shaped patches\n",
    "    #\n",
    "    # OUTPUT:\n",
    "    #   patches : random patches\n",
    "\n",
    "    # reshape data 2d -> 3d\n",
    "    n_images = data.shape[0]\n",
    "    data = data.reshape(n_images, img_height, img_width)\n",
    "\n",
    "    # extract random patches\n",
    "    patches = []#np.zeros((n_patches, patch_size*patch_size))\n",
    "    for i in range(n_patches):\n",
    "        patch_top = random.randint(0, img_height - patch_size)\n",
    "        patch_left = random.randint(0, img_width - patch_size)\n",
    "        p = data[random.randint(0, n_images-1), patch_top:patch_top+patch_size, patch_left:patch_left+patch_size]\n",
    "        patches.append(p)\n",
    "        #patches[i,:] = p[:]\n",
    "        \n",
    "    patches = np.stack(patches)\n",
    "    patches = patches.reshape(patches.shape[0], -1) #flatten each patch\n",
    "        \n",
    "    return patches\n",
    "\n",
    "def show_in_grid(images, height, width):\n",
    "    # flatten images if necessary\n",
    "    images = images.reshape(images.shape[0], -1)\n",
    "    \n",
    "    # normalize patches\n",
    "    images = images / (np.abs(images).max(axis=1, keepdims=True)+1e-6)\n",
    "    \n",
    "    # reshape into images\n",
    "    images = images.reshape(-1, height, width)\n",
    "    \n",
    "    # make images fit into a rectangular area\n",
    "    grid_width = math.ceil(math.sqrt(images.shape[0]))\n",
    "    grid_height = math.ceil(images.shape[0] / grid_width)\n",
    "    \n",
    "    empty_cells = grid_width * grid_height - images.shape[0]\n",
    "    \n",
    "    # fill empty cells\n",
    "    if empty_cells > 0:\n",
    "        padding = np.zeros((empty_cells, height, width))\n",
    "        images = np.concatenate((images, padding))\n",
    "        \n",
    "    # rearrange basis into grid and also switch width and height so x and y axis are not switched\n",
    "    images = images.reshape(grid_height, grid_width, height, width)\n",
    "    images = images.transpose(0, 3, 1, 2)\n",
    "    \n",
    "    plt.figure(figsize = (10,10))\n",
    "    plt.imshow(images.reshape(grid_height*height, grid_width*width), cmap='gray')\n",
    "    plt.show()"
   ]
  },
  {
   "cell_type": "markdown",
   "metadata": {},
   "source": [
    "Your solution:"
   ]
  },
  {
   "cell_type": "code",
   "execution_count": 2,
   "metadata": {},
   "outputs": [],
   "source": [
    "## Define variables\n",
    "\n",
    "# TODO dataset : relative path to the .npz file containing the data\n",
    "dataset = '' #'data/olivetti.npz'\n",
    "\n",
    "# TODO n_patches : number of random patches to extract from the images\n",
    "n_patches = -1\n",
    "# TODO patch_size : size (both width and height) of the square-shaped patches\n",
    "patch_size = -1\n",
    "\n",
    "# TODO n_basis : number of new basis vectors\n",
    "n_basis = -1\n",
    "\n",
    "# TODO method : string describing whether to perform pca, ica, or sc\n",
    "method = ''\n",
    "\n",
    "# TODO n_iterations : number of iterations (only for sparse coding)\n",
    "n_iterations = -1"
   ]
  },
  {
   "cell_type": "code",
   "execution_count": 3,
   "metadata": {},
   "outputs": [],
   "source": [
    "## Compute and show the principal components\n",
    "\n",
    "# TODO load dataset\n",
    "\n",
    "# TODO convert data to floating point (double precision)\n",
    "\n",
    "# TODO get number of images (observations) and number of pixels (features)\n",
    "n_images, n_pixels = -1,-1\n",
    "\n",
    "# TODO get height and width of the images\n",
    "img_height = -1\n",
    "img_width = -1\n",
    "assert isinstance(img_height, int) and isinstance(img_width, int), \"Image dimensions need to be integers.\"\n",
    "\n",
    "# TODO enforce mean-free data vectors\n",
    "mean_free_data = -1\n",
    "\n",
    "# TODO draw random patches from data.\n",
    "patches = -1\n",
    "\n",
    "# TODO perform the chosen unsupervised method on the drawn patches\n",
    "if method == 'pca':\n",
    "    basis = -1\n",
    "elif method == 'ica':\n",
    "    basis = -1\n",
    "elif method == 'sc':\n",
    "    basis = -1\n",
    "\n",
    "# TODO show the new set of basis vectors (only the first n_basis)\n",
    "#show_in_grid(basis[:n_basis], patch_size, patch_size)"
   ]
  },
  {
   "cell_type": "code",
   "execution_count": 4,
   "metadata": {},
   "outputs": [],
   "source": [
    "## Use different subsets of the new basis vectors to reconstruct a random patch\n",
    "from sklearn.decomposition import sparse_encode\n",
    "\n",
    "# TODO draw a random patch\n",
    "random_patch = -1\n",
    "\n",
    "if method == 'sc':\n",
    "    # TODO: pre-compute the inverse basis\n",
    "    # TODO: pre-compute all coefficients\n",
    "    # TODO: use argsort to find the indices with the highest absolute values\n",
    "    pass\n",
    "\n",
    "# TODO reconstruct the random patch\n",
    "reconstructions = []\n",
    "for i in range(n_basis):\n",
    "    #sub_basis = basis[0:i+1]\n",
    "    \n",
    "    if method == 'sc':\n",
    "        # only use the coefficients and basis vectors of the i highest \n",
    "        # absolute coefficients\n",
    "        pass\n",
    "    else:\n",
    "        pass\n",
    "    \n",
    "#reconstructions = np.stack(reconstructions)\n",
    "\n",
    "# TODO show the reconstructed patch\n",
    "#show_in_grid(reconstructions, patch_size, patch_size)"
   ]
  },
  {
   "cell_type": "markdown",
   "metadata": {},
   "source": [
    "*Bonus*: Implement the missing parts in the bonus section. When done correctly, your code additionally should do the following:\n",
    "1. Perform ZCA whitening, whereas $\\vec{x}_{ZCAwhite}=U\\vec{x}_{wht}$ (c.f. equation 1.3 in the lecture notes).\n",
    "2. Visualize the whitened data."
   ]
  },
  {
   "cell_type": "code",
   "execution_count": 5,
   "metadata": {},
   "outputs": [],
   "source": [
    "#% TODO epsilon : avoid negative numbers while computing stdDeviations\n",
    "epsilon = 0.1\n",
    "\n",
    "# TODO perform principal component analysis (help pca)\n",
    "basis = -1 #get basis vector components\n",
    "\n",
    "# TODO compute the covariance matrix of the patches\n",
    "covariance = -1\n",
    "\n",
    "# TODO compute diagonal matrix S containing the standard deviations (c.f. page 6)\n",
    "std_deviations = -1\n",
    "\n",
    "# TODO pca whitening (c.f. equation 1.3)\n",
    "xPCAwhite = -1\n",
    "\n",
    "# TODO zca whitening\n",
    "xZCAwhite = -1\n",
    "\n",
    "# TODO visualize the whitened data\n",
    "# show_in_grid(xZCAwhite[:n_basis], patch_size, patch_size)"
   ]
  },
  {
   "cell_type": "markdown",
   "metadata": {},
   "source": [
    "## Exercise 1.2: Comprehension Questions\n",
    "\n",
    "Answer the following comprehension questions either with *right* or *wrong* and briefly explain your decision:\n",
    "1. Regardless of the used method for representation learning (i.e. PCA, ICA, SC), the resulting set of basis vectors depends on the given dataset."
   ]
  },
  {
   "cell_type": "markdown",
   "metadata": {},
   "source": [
    "[Your answer]"
   ]
  },
  {
   "cell_type": "markdown",
   "metadata": {},
   "source": [
    "2. The first principal component has the smallest eigenvalue and covers the largest possible variance of the data."
   ]
  },
  {
   "cell_type": "markdown",
   "metadata": {},
   "source": [
    "[Your answer] "
   ]
  },
  {
   "cell_type": "markdown",
   "metadata": {},
   "source": [
    "3. The optimal number of principal components to retain is 42."
   ]
  },
  {
   "cell_type": "markdown",
   "metadata": {},
   "source": [
    " [Your answer]"
   ]
  },
  {
   "cell_type": "markdown",
   "metadata": {},
   "source": [
    "4. After whitening, the features of an observation are uncorrelated and have unit variance."
   ]
  },
  {
   "cell_type": "markdown",
   "metadata": {},
   "source": [
    "[Your answer] "
   ]
  },
  {
   "cell_type": "markdown",
   "metadata": {},
   "source": [
    "5. The resulting basis vectors of the ICA (i.e. the independent components) are mutually orthogonal."
   ]
  },
  {
   "cell_type": "markdown",
   "metadata": {},
   "source": [
    " [Your answer]"
   ]
  },
  {
   "cell_type": "markdown",
   "metadata": {},
   "source": [
    "6. The ICA is an enhancement of the PCA which additionally makes the already uncorrelated features statistically independent."
   ]
  },
  {
   "cell_type": "markdown",
   "metadata": {},
   "source": [
    " [Your answer]"
   ]
  },
  {
   "cell_type": "markdown",
   "metadata": {},
   "source": [
    "7. The set of basis vectors of the ICA can be over-complete, i.e. more basis vectors than dimensions of the input space."
   ]
  },
  {
   "cell_type": "markdown",
   "metadata": {},
   "source": [
    " [Your answer]"
   ]
  },
  {
   "cell_type": "markdown",
   "metadata": {},
   "source": [
    "8. Sparsity means that only a few basis vectors are used to reconstruct an image."
   ]
  },
  {
   "cell_type": "markdown",
   "metadata": {},
   "source": [
    " [Your answer]"
   ]
  },
  {
   "cell_type": "markdown",
   "metadata": {},
   "source": [
    "9. The optimization problem for SC (c.f. equation 1.9 in the lecture notes) is convex."
   ]
  },
  {
   "cell_type": "markdown",
   "metadata": {},
   "source": [
    "[Your answer] "
   ]
  },
  {
   "cell_type": "markdown",
   "metadata": {},
   "source": [
    "10. Unlike PCA and ICA, SC results in a linear transform of the data."
   ]
  },
  {
   "cell_type": "markdown",
   "metadata": {},
   "source": [
    "[Your answer]"
   ]
  },
  {
   "cell_type": "markdown",
   "metadata": {},
   "source": [
    " "
   ]
  }
 ],
 "metadata": {
  "kernelspec": {
   "display_name": "PT3",
   "language": "python",
   "name": "pt3"
  },
  "language_info": {
   "codemirror_mode": {
    "name": "ipython",
    "version": 3
   },
   "file_extension": ".py",
   "mimetype": "text/x-python",
   "name": "python",
   "nbconvert_exporter": "python",
   "pygments_lexer": "ipython3",
   "version": "3.7.0"
  }
 },
 "nbformat": 4,
 "nbformat_minor": 2
}
